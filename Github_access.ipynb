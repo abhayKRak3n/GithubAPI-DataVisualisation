{
 "cells": [
  {
   "cell_type": "markdown",
   "metadata": {},
   "source": [
    "## Data Retrieval \n",
    "The following code shows data retrieval for a github user's profile"
   ]
  },
  {
   "cell_type": "code",
   "execution_count": 2,
   "metadata": {},
   "outputs": [],
   "source": [
    "import json\n",
    "import requests\n",
    "import numpy as np\n",
    "import pandas as pd\n",
    "\n",
    "import requests\n",
    "from requests.auth import HTTPBasicAuth"
   ]
  },
  {
   "cell_type": "code",
   "execution_count": 7,
   "metadata": {},
   "outputs": [
    {
     "ename": "JSONDecodeError",
     "evalue": "Expecting value: line 2 column 14 (char 15)",
     "output_type": "error",
     "traceback": [
      "\u001b[0;31m---------------------------------------------------------------------------\u001b[0m",
      "\u001b[0;31mJSONDecodeError\u001b[0m                           Traceback (most recent call last)",
      "\u001b[0;32m<ipython-input-7-179d00c68309>\u001b[0m in \u001b[0;36m<module>\u001b[0;34m\u001b[0m\n\u001b[0;32m----> 1\u001b[0;31m \u001b[0mcreds\u001b[0m \u001b[0;34m=\u001b[0m \u001b[0mjson\u001b[0m\u001b[0;34m.\u001b[0m\u001b[0mloads\u001b[0m\u001b[0;34m(\u001b[0m\u001b[0mopen\u001b[0m\u001b[0;34m(\u001b[0m\u001b[0;34m'creds.json'\u001b[0m\u001b[0;34m)\u001b[0m\u001b[0;34m.\u001b[0m\u001b[0mread\u001b[0m\u001b[0;34m(\u001b[0m\u001b[0;34m)\u001b[0m\u001b[0;34m)\u001b[0m\u001b[0;34m\u001b[0m\u001b[0;34m\u001b[0m\u001b[0m\n\u001b[0m\u001b[1;32m      2\u001b[0m \u001b[0mauthentication\u001b[0m \u001b[0;34m=\u001b[0m \u001b[0mHTTPBasicAuth\u001b[0m\u001b[0;34m(\u001b[0m\u001b[0mcredentials\u001b[0m\u001b[0;34m[\u001b[0m\u001b[0;34m\"abhayKRak3N\"\u001b[0m\u001b[0;34m]\u001b[0m\u001b[0;34m,\u001b[0m \u001b[0mcredentials\u001b[0m\u001b[0;34m[\u001b[0m\u001b[0;34m'password'\u001b[0m\u001b[0;34m]\u001b[0m\u001b[0;34m)\u001b[0m\u001b[0;34m\u001b[0m\u001b[0;34m\u001b[0m\u001b[0m\n",
      "\u001b[0;32m/Applications/anaconda3/lib/python3.7/json/__init__.py\u001b[0m in \u001b[0;36mloads\u001b[0;34m(s, encoding, cls, object_hook, parse_float, parse_int, parse_constant, object_pairs_hook, **kw)\u001b[0m\n\u001b[1;32m    346\u001b[0m             \u001b[0mparse_int\u001b[0m \u001b[0;32mis\u001b[0m \u001b[0;32mNone\u001b[0m \u001b[0;32mand\u001b[0m \u001b[0mparse_float\u001b[0m \u001b[0;32mis\u001b[0m \u001b[0;32mNone\u001b[0m \u001b[0;32mand\u001b[0m\u001b[0;34m\u001b[0m\u001b[0;34m\u001b[0m\u001b[0m\n\u001b[1;32m    347\u001b[0m             parse_constant is None and object_pairs_hook is None and not kw):\n\u001b[0;32m--> 348\u001b[0;31m         \u001b[0;32mreturn\u001b[0m \u001b[0m_default_decoder\u001b[0m\u001b[0;34m.\u001b[0m\u001b[0mdecode\u001b[0m\u001b[0;34m(\u001b[0m\u001b[0ms\u001b[0m\u001b[0;34m)\u001b[0m\u001b[0;34m\u001b[0m\u001b[0;34m\u001b[0m\u001b[0m\n\u001b[0m\u001b[1;32m    349\u001b[0m     \u001b[0;32mif\u001b[0m \u001b[0mcls\u001b[0m \u001b[0;32mis\u001b[0m \u001b[0;32mNone\u001b[0m\u001b[0;34m:\u001b[0m\u001b[0;34m\u001b[0m\u001b[0;34m\u001b[0m\u001b[0m\n\u001b[1;32m    350\u001b[0m         \u001b[0mcls\u001b[0m \u001b[0;34m=\u001b[0m \u001b[0mJSONDecoder\u001b[0m\u001b[0;34m\u001b[0m\u001b[0;34m\u001b[0m\u001b[0m\n",
      "\u001b[0;32m/Applications/anaconda3/lib/python3.7/json/decoder.py\u001b[0m in \u001b[0;36mdecode\u001b[0;34m(self, s, _w)\u001b[0m\n\u001b[1;32m    335\u001b[0m \u001b[0;34m\u001b[0m\u001b[0m\n\u001b[1;32m    336\u001b[0m         \"\"\"\n\u001b[0;32m--> 337\u001b[0;31m         \u001b[0mobj\u001b[0m\u001b[0;34m,\u001b[0m \u001b[0mend\u001b[0m \u001b[0;34m=\u001b[0m \u001b[0mself\u001b[0m\u001b[0;34m.\u001b[0m\u001b[0mraw_decode\u001b[0m\u001b[0;34m(\u001b[0m\u001b[0ms\u001b[0m\u001b[0;34m,\u001b[0m \u001b[0midx\u001b[0m\u001b[0;34m=\u001b[0m\u001b[0m_w\u001b[0m\u001b[0;34m(\u001b[0m\u001b[0ms\u001b[0m\u001b[0;34m,\u001b[0m \u001b[0;36m0\u001b[0m\u001b[0;34m)\u001b[0m\u001b[0;34m.\u001b[0m\u001b[0mend\u001b[0m\u001b[0;34m(\u001b[0m\u001b[0;34m)\u001b[0m\u001b[0;34m)\u001b[0m\u001b[0;34m\u001b[0m\u001b[0;34m\u001b[0m\u001b[0m\n\u001b[0m\u001b[1;32m    338\u001b[0m         \u001b[0mend\u001b[0m \u001b[0;34m=\u001b[0m \u001b[0m_w\u001b[0m\u001b[0;34m(\u001b[0m\u001b[0ms\u001b[0m\u001b[0;34m,\u001b[0m \u001b[0mend\u001b[0m\u001b[0;34m)\u001b[0m\u001b[0;34m.\u001b[0m\u001b[0mend\u001b[0m\u001b[0;34m(\u001b[0m\u001b[0;34m)\u001b[0m\u001b[0;34m\u001b[0m\u001b[0;34m\u001b[0m\u001b[0m\n\u001b[1;32m    339\u001b[0m         \u001b[0;32mif\u001b[0m \u001b[0mend\u001b[0m \u001b[0;34m!=\u001b[0m \u001b[0mlen\u001b[0m\u001b[0;34m(\u001b[0m\u001b[0ms\u001b[0m\u001b[0;34m)\u001b[0m\u001b[0;34m:\u001b[0m\u001b[0;34m\u001b[0m\u001b[0;34m\u001b[0m\u001b[0m\n",
      "\u001b[0;32m/Applications/anaconda3/lib/python3.7/json/decoder.py\u001b[0m in \u001b[0;36mraw_decode\u001b[0;34m(self, s, idx)\u001b[0m\n\u001b[1;32m    353\u001b[0m             \u001b[0mobj\u001b[0m\u001b[0;34m,\u001b[0m \u001b[0mend\u001b[0m \u001b[0;34m=\u001b[0m \u001b[0mself\u001b[0m\u001b[0;34m.\u001b[0m\u001b[0mscan_once\u001b[0m\u001b[0;34m(\u001b[0m\u001b[0ms\u001b[0m\u001b[0;34m,\u001b[0m \u001b[0midx\u001b[0m\u001b[0;34m)\u001b[0m\u001b[0;34m\u001b[0m\u001b[0;34m\u001b[0m\u001b[0m\n\u001b[1;32m    354\u001b[0m         \u001b[0;32mexcept\u001b[0m \u001b[0mStopIteration\u001b[0m \u001b[0;32mas\u001b[0m \u001b[0merr\u001b[0m\u001b[0;34m:\u001b[0m\u001b[0;34m\u001b[0m\u001b[0;34m\u001b[0m\u001b[0m\n\u001b[0;32m--> 355\u001b[0;31m             \u001b[0;32mraise\u001b[0m \u001b[0mJSONDecodeError\u001b[0m\u001b[0;34m(\u001b[0m\u001b[0;34m\"Expecting value\"\u001b[0m\u001b[0;34m,\u001b[0m \u001b[0ms\u001b[0m\u001b[0;34m,\u001b[0m \u001b[0merr\u001b[0m\u001b[0;34m.\u001b[0m\u001b[0mvalue\u001b[0m\u001b[0;34m)\u001b[0m \u001b[0;32mfrom\u001b[0m \u001b[0;32mNone\u001b[0m\u001b[0;34m\u001b[0m\u001b[0;34m\u001b[0m\u001b[0m\n\u001b[0m\u001b[1;32m    356\u001b[0m         \u001b[0;32mreturn\u001b[0m \u001b[0mobj\u001b[0m\u001b[0;34m,\u001b[0m \u001b[0mend\u001b[0m\u001b[0;34m\u001b[0m\u001b[0;34m\u001b[0m\u001b[0m\n",
      "\u001b[0;31mJSONDecodeError\u001b[0m: Expecting value: line 2 column 14 (char 15)"
     ]
    }
   ],
   "source": [
    "creds = json.loads(open('creds.json').read())\n",
    "authentication = HTTPBasicAuth(credentials[\"abhayKRak3N\"], credentials['password'])"
   ]
  },
  {
   "cell_type": "code",
   "execution_count": null,
   "metadata": {},
   "outputs": [],
   "source": []
  },
  {
   "cell_type": "markdown",
   "metadata": {},
   "source": [
    "The following code shows data retrieved about a repository"
   ]
  },
  {
   "cell_type": "code",
   "execution_count": 2,
   "metadata": {},
   "outputs": [
    {
     "name": "stdout",
     "output_type": "stream",
     "text": [
      "{'allow_merge_commit': True,\n",
      " 'allow_rebase_merge': True,\n",
      " 'allow_squash_merge': True,\n",
      " 'archive_url': 'https://api.github.com/repos/abhayKRak3n/3rd-Year/{archive_format}{/ref}',\n",
      " 'archived': False,\n",
      " 'assignees_url': 'https://api.github.com/repos/abhayKRak3n/3rd-Year/assignees{/user}',\n",
      " 'blobs_url': 'https://api.github.com/repos/abhayKRak3n/3rd-Year/git/blobs{/sha}',\n",
      " 'branches_url': 'https://api.github.com/repos/abhayKRak3n/3rd-Year/branches{/branch}',\n",
      " 'clone_url': 'https://github.com/abhayKRak3n/3rd-Year.git',\n",
      " 'collaborators_url': 'https://api.github.com/repos/abhayKRak3n/3rd-Year/collaborators{/collaborator}',\n",
      " 'comments_url': 'https://api.github.com/repos/abhayKRak3n/3rd-Year/comments{/number}',\n",
      " 'commits_url': 'https://api.github.com/repos/abhayKRak3n/3rd-Year/commits{/sha}',\n",
      " 'compare_url': 'https://api.github.com/repos/abhayKRak3n/3rd-Year/compare/{base}...{head}',\n",
      " 'contents_url': 'https://api.github.com/repos/abhayKRak3n/3rd-Year/contents/{+path}',\n",
      " 'contributors_url': 'https://api.github.com/repos/abhayKRak3n/3rd-Year/contributors',\n",
      " 'created_at': '2020-10-11T12:46:59Z',\n",
      " 'default_branch': 'main',\n",
      " 'delete_branch_on_merge': False,\n",
      " 'deployments_url': 'https://api.github.com/repos/abhayKRak3n/3rd-Year/deployments',\n",
      " 'description': None,\n",
      " 'disabled': False,\n",
      " 'downloads_url': 'https://api.github.com/repos/abhayKRak3n/3rd-Year/downloads',\n",
      " 'events_url': 'https://api.github.com/repos/abhayKRak3n/3rd-Year/events',\n",
      " 'fork': False,\n",
      " 'forks': 0,\n",
      " 'forks_count': 0,\n",
      " 'forks_url': 'https://api.github.com/repos/abhayKRak3n/3rd-Year/forks',\n",
      " 'full_name': 'abhayKRak3n/3rd-Year',\n",
      " 'git_commits_url': 'https://api.github.com/repos/abhayKRak3n/3rd-Year/git/commits{/sha}',\n",
      " 'git_refs_url': 'https://api.github.com/repos/abhayKRak3n/3rd-Year/git/refs{/sha}',\n",
      " 'git_tags_url': 'https://api.github.com/repos/abhayKRak3n/3rd-Year/git/tags{/sha}',\n",
      " 'git_url': 'git://github.com/abhayKRak3n/3rd-Year.git',\n",
      " 'has_downloads': True,\n",
      " 'has_issues': True,\n",
      " 'has_pages': False,\n",
      " 'has_projects': True,\n",
      " 'has_wiki': True,\n",
      " 'homepage': None,\n",
      " 'hooks_url': 'https://api.github.com/repos/abhayKRak3n/3rd-Year/hooks',\n",
      " 'html_url': 'https://github.com/abhayKRak3n/3rd-Year',\n",
      " 'id': 303119237,\n",
      " 'issue_comment_url': 'https://api.github.com/repos/abhayKRak3n/3rd-Year/issues/comments{/number}',\n",
      " 'issue_events_url': 'https://api.github.com/repos/abhayKRak3n/3rd-Year/issues/events{/number}',\n",
      " 'issues_url': 'https://api.github.com/repos/abhayKRak3n/3rd-Year/issues{/number}',\n",
      " 'keys_url': 'https://api.github.com/repos/abhayKRak3n/3rd-Year/keys{/key_id}',\n",
      " 'labels_url': 'https://api.github.com/repos/abhayKRak3n/3rd-Year/labels{/name}',\n",
      " 'language': 'Assembly',\n",
      " 'languages_url': 'https://api.github.com/repos/abhayKRak3n/3rd-Year/languages',\n",
      " 'license': None,\n",
      " 'merges_url': 'https://api.github.com/repos/abhayKRak3n/3rd-Year/merges',\n",
      " 'milestones_url': 'https://api.github.com/repos/abhayKRak3n/3rd-Year/milestones{/number}',\n",
      " 'mirror_url': None,\n",
      " 'name': '3rd-Year',\n",
      " 'network_count': 0,\n",
      " 'node_id': 'MDEwOlJlcG9zaXRvcnkzMDMxMTkyMzc=',\n",
      " 'notifications_url': 'https://api.github.com/repos/abhayKRak3n/3rd-Year/notifications{?since,all,participating}',\n",
      " 'open_issues': 0,\n",
      " 'open_issues_count': 0,\n",
      " 'owner': {'avatar_url': 'https://avatars3.githubusercontent.com/u/58368777?v=4',\n",
      "           'events_url': 'https://api.github.com/users/abhayKRak3n/events{/privacy}',\n",
      "           'followers_url': 'https://api.github.com/users/abhayKRak3n/followers',\n",
      "           'following_url': 'https://api.github.com/users/abhayKRak3n/following{/other_user}',\n",
      "           'gists_url': 'https://api.github.com/users/abhayKRak3n/gists{/gist_id}',\n",
      "           'gravatar_id': '',\n",
      "           'html_url': 'https://github.com/abhayKRak3n',\n",
      "           'id': 58368777,\n",
      "           'login': 'abhayKRak3n',\n",
      "           'node_id': 'MDQ6VXNlcjU4MzY4Nzc3',\n",
      "           'organizations_url': 'https://api.github.com/users/abhayKRak3n/orgs',\n",
      "           'received_events_url': 'https://api.github.com/users/abhayKRak3n/received_events',\n",
      "           'repos_url': 'https://api.github.com/users/abhayKRak3n/repos',\n",
      "           'site_admin': False,\n",
      "           'starred_url': 'https://api.github.com/users/abhayKRak3n/starred{/owner}{/repo}',\n",
      "           'subscriptions_url': 'https://api.github.com/users/abhayKRak3n/subscriptions',\n",
      "           'type': 'User',\n",
      "           'url': 'https://api.github.com/users/abhayKRak3n'},\n",
      " 'permissions': {'admin': True, 'pull': True, 'push': True},\n",
      " 'private': False,\n",
      " 'pulls_url': 'https://api.github.com/repos/abhayKRak3n/3rd-Year/pulls{/number}',\n",
      " 'pushed_at': '2020-12-09T17:41:45Z',\n",
      " 'releases_url': 'https://api.github.com/repos/abhayKRak3n/3rd-Year/releases{/id}',\n",
      " 'size': 2373,\n",
      " 'ssh_url': 'git@github.com:abhayKRak3n/3rd-Year.git',\n",
      " 'stargazers_count': 0,\n",
      " 'stargazers_url': 'https://api.github.com/repos/abhayKRak3n/3rd-Year/stargazers',\n",
      " 'statuses_url': 'https://api.github.com/repos/abhayKRak3n/3rd-Year/statuses/{sha}',\n",
      " 'subscribers_count': 1,\n",
      " 'subscribers_url': 'https://api.github.com/repos/abhayKRak3n/3rd-Year/subscribers',\n",
      " 'subscription_url': 'https://api.github.com/repos/abhayKRak3n/3rd-Year/subscription',\n",
      " 'svn_url': 'https://github.com/abhayKRak3n/3rd-Year',\n",
      " 'tags_url': 'https://api.github.com/repos/abhayKRak3n/3rd-Year/tags',\n",
      " 'teams_url': 'https://api.github.com/repos/abhayKRak3n/3rd-Year/teams',\n",
      " 'temp_clone_token': '',\n",
      " 'trees_url': 'https://api.github.com/repos/abhayKRak3n/3rd-Year/git/trees{/sha}',\n",
      " 'updated_at': '2020-12-09T17:41:47Z',\n",
      " 'url': 'https://api.github.com/repos/abhayKRak3n/3rd-Year',\n",
      " 'watchers': 0,\n",
      " 'watchers_count': 0}\n"
     ]
    }
   ],
   "source": [
    "#token = 0e73ef9c036ba7f19f0409e62d80ceca5b737ffc\n",
    "token = os.getenv('GITHUB_TOKEN', '...')\n",
    "owner = \"abhayKRak3N\"\n",
    "repo_name = \"3rd-Year\"\n",
    "query_url = f\"https://api.github.com/repos/{owner}/{repo_name}\"\n",
    "headers = {'Authorization': f'token {\"0e73ef9c036ba7f19f0409e62d80ceca5b737ffc\"}'}\n",
    "           \n",
    "r = requests.get(query_url, headers=headers)\n",
    "pprint(r.json())"
   ]
  },
  {
   "cell_type": "code",
   "execution_count": null,
   "metadata": {},
   "outputs": [],
   "source": []
  },
  {
   "cell_type": "code",
   "execution_count": null,
   "metadata": {},
   "outputs": [],
   "source": [
    "  "
   ]
  },
  {
   "cell_type": "code",
   "execution_count": null,
   "metadata": {},
   "outputs": [],
   "source": []
  }
 ],
 "metadata": {
  "kernelspec": {
   "display_name": "Python 3",
   "language": "python",
   "name": "python3"
  },
  "language_info": {
   "codemirror_mode": {
    "name": "ipython",
    "version": 3
   },
   "file_extension": ".py",
   "mimetype": "text/x-python",
   "name": "python",
   "nbconvert_exporter": "python",
   "pygments_lexer": "ipython3",
   "version": "3.7.4"
  }
 },
 "nbformat": 4,
 "nbformat_minor": 2
}
